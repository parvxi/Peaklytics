{
 "cells": [
  {
   "cell_type": "markdown",
   "metadata": {},
   "source": [
    "### Column Descriptions\n",
    "\n",
    "- **Unnamed: 0**:  \n",
    "  An index column that appears to be a row identifier, possibly created automatically.\n",
    "\n",
    "- **name**:  \n",
    "  The name of the company or startup.\n",
    "\n",
    "- **market**:  \n",
    "  The industry or sector the company operates in, such as _\"News,\" \"Publishing,\"_ or _\"E-Commerce.\"_\n",
    "\n",
    "- **funding_total_usd**:  \n",
    "  The total funding the company has received in USD.\n",
    "\n",
    "- **status**:  \n",
    "  The current operational status of the company, such as _\"acquired\"_ or _\"operating.\"_\n",
    "\n",
    "- **region**:  \n",
    "  The broader region where the company is located, e.g., _\"New York City,\" \"Dallas.\"_\n",
    "\n",
    "- **city**:  \n",
    "  The specific city where the company is based.\n",
    "\n",
    "- **funding_rounds**:  \n",
    "  The number of funding rounds the company has gone through.\n",
    "\n",
    "- **founded_at**:  \n",
    "  The exact date the company was founded.\n",
    "\n",
    "- **founded_month**:  \n",
    "  The month the company was founded.\n",
    "\n",
    "- **round_A**:  \n",
    "  Amount raised in round A of funding (if applicable).\n",
    "\n",
    "- **round_B**:  \n",
    "  Amount raised in round B of funding (if applicable).\n",
    "\n",
    "- **round_C**:  \n",
    "  Amount raised in round C of funding (if applicable).\n",
    "\n",
    "- **round_D**:  \n",
    "  Amount raised in round D of funding (if applicable).\n",
    "\n",
    "- **round_E**:  \n",
    "  Amount raised in round E of funding (if applicable).\n",
    "\n",
    "- **round_F**:  \n",
    "  Amount raised in round F of funding (if applicable).\n",
    "\n",
    "- **round_G**:  \n",
    "  Amount raised in round G of funding (if applicable).\n",
    "\n",
    "- **round_H**:  \n",
    "  Amount raised in round H of funding (if applicable).\n",
    "\n",
    "- **country**:  \n",
    "  The country where the company is based.\n",
    "\n",
    "- **quarter**:  \n",
    "  The quarter (Q1, Q2, etc.) when the company was founded or reported funding."
   ]
  },
  {
   "cell_type": "code",
   "execution_count": null,
   "metadata": {},
   "outputs": [],
   "source": []
  },
  {
   "cell_type": "markdown",
   "metadata": {},
   "source": []
  }
 ],
 "metadata": {
  "kernelspec": {
   "display_name": "peaklytics",
   "language": "python",
   "name": "python3"
  },
  "language_info": {
   "codemirror_mode": {
    "name": "ipython",
    "version": 3
   },
   "file_extension": ".py",
   "mimetype": "text/x-python",
   "name": "python",
   "nbconvert_exporter": "python",
   "pygments_lexer": "ipython3",
   "version": "3.10.6"
  }
 },
 "nbformat": 4,
 "nbformat_minor": 2
}
